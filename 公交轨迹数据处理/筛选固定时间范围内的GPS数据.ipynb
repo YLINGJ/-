{
 "cells": [
  {
   "cell_type": "code",
   "execution_count": null,
   "id": "9940c958",
   "metadata": {},
   "outputs": [],
   "source": [
    "#运行这个代码可以让Python不显示warnings\n",
    "import warnings\n",
    "warnings.filterwarnings(\"ignore\")\n",
    "import pandas as pd\n",
    "import numpy as np\n",
    "import geopandas\n",
    "import geopandas as gpd"
   ]
  },
  {
   "cell_type": "code",
   "execution_count": null,
   "id": "4c77fee5",
   "metadata": {},
   "outputs": [],
   "source": [
    "#读取GPS数据\n",
    "#BUS_GPS= pd.read_csv(r'/data/PythonTrans/Data/busgps/BUS_GPS_71.csv',header = None)\n",
    "BUS_GPS = pd.read_csv(r'F:\\data\\hebing3\\result2.csv',encoding='gbk')#默认第一行是表头\n",
    "BUS_GPS##检查数据是否正常"
   ]
  },
  {
   "cell_type": "code",
   "execution_count": null,
   "id": "b12cbcbf",
   "metadata": {},
   "outputs": [],
   "source": [
    "#包含循环结构的时间筛选\n",
    "#筛选只保留17号的数据\n",
    "#BUS_GPS = BUS_GPS[BUS_GPS['RECDATETIME'].str.slice(8,10)=='17']\n",
    "#筛选只保留1号的数据\n",
    "import datetime\n",
    "list=[] \n",
    "# 范围时间\n",
    "\n",
    "d_time = datetime.datetime.strptime('2021/5/1 0:0:0', '%Y/%m/%d %H:%M:%S')\n",
    "d_time1 =  datetime.datetime.strptime('2021/5/2 0:0:0', '%Y/%m/%d %H:%M:%S')\n",
    "\n",
    "n=3033701#####！！！！！！注意根据总行数进行修改\n",
    "for i in range(0, n):    \n",
    "    # 当前时间\n",
    "    n_time = datetime.datetime.strptime(BUS_GPS.loc[i,'RECDATETIME'], '%Y/%m/%d %H:%M:%S')\n",
    "\n",
    "    # 当前时间\n",
    "    #n_time = datetime.datetime.now()\n",
    "    #判断时间\n",
    "    #n_time =BUS_GPS.loc[1,'RECDATETIME']\n",
    "    # 判断当前时间是否在范围时间内\n",
    "    if n_time > d_time and n_time<d_time1:\n",
    "        k=i\n",
    "        list.append(k)##要用圆括号,且不要写成list=list.append(k)的赋值形式\n",
    "        #读取经纬度\n",
    "        lon = BUS_GPS.loc[i,['LONGITUDE']]\n",
    "        lat = BUS_GPS.loc[i,['LATITUDE']]\n",
    "        pass"
   ]
  },
  {
   "cell_type": "code",
   "execution_count": null,
   "id": "0016465b",
   "metadata": {},
   "outputs": [],
   "source": [
    "##按照行索引提取所在行\n",
    "index=list\n",
    "BUS_22_5_1=BUS_GPS.iloc[index, :] # 这里的 ：可以改为具体的索引，就可以提取具体列，详情可以看iloc的介绍\n",
    "#在这之前需要排个序,##以空格划分日期和时间\n",
    "#标准时间的换算，相对00：00：00过了多少秒\n",
    "BUS_22_5_1['time_st'] = BUS_GPS['RECDATETIME'].apply(lambda r:r.split(' ')[1].split(':')[0]).astype('int')*3600+\\\n",
    "BUS_22_5_1['RECDATETIME'].apply(lambda r:r.split(' ')[1].split(':')[1]).astype('int')*60+\\\n",
    "BUS_22_5_1['RECDATETIME'].apply(lambda r:r.split(' ')[1].split(':')[2]).astype('int')\n",
    "##以上为计算从零点到当前时刻的秒数\n",
    "BUS_22_5_1.sort_values(by='time_st', inplace=True, ascending=True)\n",
    "##按照时间戳排序\n",
    "##将提取结果保存到csv文件中\n",
    "BUS_22_5_1.to_csv(r'F:\\data\\22_5_1\\BUS_GPS.csv',index=False)\n",
    "#读取保存结果\n",
    "BUS_GPS = pd.read_csv(r'F:\\data\\22_5_1\\BUS_GPS.csv',encoding='gbk')\n",
    "BUS_GPS#这样读取默认第一行是表头"
   ]
  }
 ],
 "metadata": {
  "kernelspec": {
   "display_name": "Python 3 (ipykernel)",
   "language": "python",
   "name": "python3"
  },
  "language_info": {
   "codemirror_mode": {
    "name": "ipython",
    "version": 3
   },
   "file_extension": ".py",
   "mimetype": "text/x-python",
   "name": "python",
   "nbconvert_exporter": "python",
   "pygments_lexer": "ipython3",
   "version": "3.9.12"
  }
 },
 "nbformat": 4,
 "nbformat_minor": 5
}
